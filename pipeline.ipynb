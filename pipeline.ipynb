{
  "nbformat": 4,
  "nbformat_minor": 0,
  "metadata": {
    "colab": {
      "provenance": []
    },
    "kernelspec": {
      "name": "python3",
      "display_name": "Python 3"
    },
    "language_info": {
      "name": "python"
    }
  },
  "cells": [
    {
      "cell_type": "markdown",
      "source": [
        "Dependancies:\n"
      ],
      "metadata": {
        "id": "nrP0BHucq5V7"
      }
    },
    {
      "cell_type": "markdown",
      "source": [
        "# Imports\n"
      ],
      "metadata": {
        "id": "IqnT7vsD84R4"
      }
    },
    {
      "cell_type": "code",
      "source": [
        "!pip install symspellpy\n",
        "!pip install pygtrie"
      ],
      "metadata": {
        "colab": {
          "base_uri": "https://localhost:8080/"
        },
        "id": "Y8cnG7Ja6z15",
        "outputId": "8c74df4b-bf4f-43cc-8e7a-64584fe5ae36"
      },
      "execution_count": 283,
      "outputs": [
        {
          "output_type": "stream",
          "name": "stdout",
          "text": [
            "Looking in indexes: https://pypi.org/simple, https://us-python.pkg.dev/colab-wheels/public/simple/\n",
            "Requirement already satisfied: symspellpy in /usr/local/lib/python3.8/dist-packages (6.7.7)\n",
            "Requirement already satisfied: editdistpy>=0.1.3 in /usr/local/lib/python3.8/dist-packages (from symspellpy) (0.1.3)\n",
            "Looking in indexes: https://pypi.org/simple, https://us-python.pkg.dev/colab-wheels/public/simple/\n",
            "Requirement already satisfied: pygtrie in /usr/local/lib/python3.8/dist-packages (2.5.0)\n"
          ]
        }
      ]
    },
    {
      "cell_type": "code",
      "source": [
        "from google.colab import drive \n",
        "drive.mount(\"/content/gdrive\")"
      ],
      "metadata": {
        "colab": {
          "base_uri": "https://localhost:8080/"
        },
        "id": "0EinThrw6fss",
        "outputId": "d2ffcb56-0415-4574-c25b-50972b56670d"
      },
      "execution_count": 284,
      "outputs": [
        {
          "output_type": "stream",
          "name": "stdout",
          "text": [
            "Drive already mounted at /content/gdrive; to attempt to forcibly remount, call drive.mount(\"/content/gdrive\", force_remount=True).\n"
          ]
        }
      ]
    },
    {
      "cell_type": "code",
      "source": [
        "cd \"/content/gdrive/MyDrive/SAAS/\""
      ],
      "metadata": {
        "colab": {
          "base_uri": "https://localhost:8080/"
        },
        "id": "WudJ_vUD63kf",
        "outputId": "ad87ae03-5b50-4697-f61c-140589286f3a"
      },
      "execution_count": 285,
      "outputs": [
        {
          "output_type": "stream",
          "name": "stdout",
          "text": [
            "/content/gdrive/MyDrive/SAAS\n"
          ]
        }
      ]
    },
    {
      "cell_type": "code",
      "source": [
        "import pandas as pd\n",
        "import numpy as np\n",
        "import re"
      ],
      "metadata": {
        "id": "OfJEzpS_6rAs"
      },
      "execution_count": 286,
      "outputs": []
    },
    {
      "cell_type": "code",
      "source": [
        "import pkg_resources\n",
        "from symspellpy import SymSpell, Verbosity\n",
        "import pandas as pd\n",
        "import re\n",
        "import pygtrie as trie\n",
        "from csv import reader\n",
        "import random\n",
        "import numpy as np"
      ],
      "metadata": {
        "id": "EMq5a2ed6shQ"
      },
      "execution_count": 287,
      "outputs": []
    },
    {
      "cell_type": "code",
      "source": [
        "from sklearn import preprocessing\n",
        "from keras.utils import to_categorical\n",
        "from keras.preprocessing.text import Tokenizer\n",
        "from keras_preprocessing.sequence import pad_sequences\n",
        "from tensorflow import keras\n",
        "import pickle"
      ],
      "metadata": {
        "id": "K1A8ckyN_BRi"
      },
      "execution_count": 288,
      "outputs": []
    },
    {
      "cell_type": "code",
      "source": [
        "model = keras.models.load_model(\"keras_model.h5\")\n",
        "\n",
        "with open('tokenizer.pickle', 'rb') as handle:\n",
        "  tokenizer = pickle.load(handle)\n",
        "\n",
        "le = preprocessing.LabelEncoder()\n",
        "le.classes_ = np.load(\"label_encoder.npy\", allow_pickle = True)"
      ],
      "metadata": {
        "id": "K0Lx-CyAIFQ4"
      },
      "execution_count": 291,
      "outputs": []
    },
    {
      "cell_type": "markdown",
      "source": [
        "# Abbreviation Expansion Setup"
      ],
      "metadata": {
        "id": "Yrj4lWu78_y8"
      }
    },
    {
      "cell_type": "code",
      "source": [
        "max_distance = 7\n",
        "sym_spell = SymSpell(max_dictionary_edit_distance=max_distance, prefix_length=9, count_threshold=10**7)\n",
        "\n",
        "# More complete dictionary\n",
        "# dictionary_path = \"frequency_dictionary_en_500_000.txt\"\n",
        "\n",
        "# Default Dictionary with fewer entries\n",
        "dictionary_path = pkg_resources.resource_filename(\"symspellpy\", \"frequency_dictionary_en_82_765.txt\")\n",
        "\n",
        "# Can Use the method create_dictionary_entry(key=<term>, count=<count>) to add specific terms to dictionary\n",
        "\n",
        "dict = sym_spell.load_dictionary(dictionary_path, term_index=0,count_index=1)\n",
        "\n",
        "food_df1 = pd.read_csv(\"./food_fndss1.csv\") # CAN BE CHANGED\n",
        "food_df2 = pd.read_csv(\"./food_sr_leg.csv\") # CAN BE CHANGED \n",
        "food_items = pd.concat([food_df1[\"description\"].dropna(), food_df2[\"description\"].dropna()], axis=0).to_list() # CAN BE CHANGED\n",
        "\n",
        "conjunctions = [\"and\", \"but\", \"for\", \"nor\", \"or\", \"so\", \"yet\", \"as\"]\n",
        "prepositions = [\"above\", \"across\", \"against\", \"along\", \"among\", \"around\", \"at\", \"before\", \"behind\", \"below\", \"beneath\", \"beside\", \n",
        "                \"between\", \"by\", \"down\", \"from\", \"in\", \"into\", \"near\", \"of\", \"off\", \"on\", \"to\", \"toward\", \"under\", \"upon\", \"with\", \"within\", \"drop\",\n",
        "                \"other\", \"than\"]\n",
        "\n",
        "food_set = set()\n",
        "food_dict = {}\n",
        "\n",
        "for item in set(food_items):\n",
        "    # get unique words --> food_set\n",
        "    words = re.split(r\" |-|/|,\", item)\n",
        "    filtered_words = [re.sub(r\"[^a-zA-Z]\", \"\", word.lower()) for word in words]\n",
        "    food_set.update([word for word in filtered_words if len(word) > 4 and word not in conjunctions + prepositions + [\"\"]])\n",
        "\n",
        "for item in food_items:\n",
        "    # get food counts --> food_dict\n",
        "    words = re.split(r\" |-|/|,\", item)\n",
        "    filtered_words = [re.sub(r\"[^a-zA-Z]\", \"\", word.lower()) for word in words]\n",
        "    filtered_words = [word for word in filtered_words if len(word) > 4]\n",
        "    for word in filtered_words:\n",
        "        if word in food_dict:\n",
        "            food_dict[word] += 1\n",
        "        else:\n",
        "            food_dict[word] = 1\n",
        "\n",
        "final_food_list = list(food_set)\n",
        "\n",
        "# Set up trie for syllable expansion\n",
        "\n",
        "t = trie.Trie()\n",
        "with open(dictionary_path) as f:\n",
        "    for row in reader(f):\n",
        "        word, freq = row[0].split(' ')\n",
        "        t[word] = int(freq)\n",
        "\n",
        "default_count = 1e9\n",
        "\n",
        "for item in final_food_list:\n",
        "    count = default_count * (food_dict[item] if item in food_dict else 1)\n",
        "    sym_spell.create_dictionary_entry(item, count)\n",
        "    if t.has_key(item):\n",
        "        t[item] += count\n",
        "    else:\n",
        "        t[item] = count\n",
        "\n",
        "\n",
        "sym_spell.create_dictionary_entry(\"actveg\", 1e11)\n",
        "\n",
        "def mean_letter_distance(abb, suggestion_term):\n",
        "    if not abb or not suggestion_term:\n",
        "        return 2.0\n",
        "    \n",
        "    j = 0\n",
        "    total_dist = 0\n",
        "    # while abb[0] != suggestion[j]:\n",
        "    #     j += 1\n",
        "    # prev_j = j\n",
        "\n",
        "    # i = 1\n",
        "    # print(abb, suggestion_term)\n",
        "    i = 0\n",
        "    prev_j = j\n",
        "    while i < len(abb):\n",
        "        if abb[i] == suggestion_term[j]:\n",
        "            total_dist += j - prev_j\n",
        "            prev_j = j\n",
        "            i += 1\n",
        "        j += 1\n",
        "    \n",
        "    return total_dist / len(abb)\n",
        "\n",
        "max_count = 5e11\n",
        "def suggestion_metric(abb, suggestion):\n",
        "    # return 0.9*(suggestion.count / max_count) - 0.1*(suggestion.distance / max_distance)\n",
        "    return 0.75*(suggestion.count / max_count) - 0.25*(mean_letter_distance(abb, suggestion.term) / max_distance)\n",
        "\n",
        "\n",
        "def get_suggestion(input_abbreviation, edit_distance = max_distance, include_unknown = False):\n",
        "    syllable_suggestion = None\n",
        "\n",
        "    # Check if trie has suggestion (only for first syllable abbreviations)\n",
        "    if t.has_node(input_abbreviation):\n",
        "        sorted_list = sorted(t.iteritems(input_abbreviation), key=lambda x: x[1], reverse=True)\n",
        "        pred = ''.join(sorted_list[0][0])\n",
        "        frequency_count = sorted_list[0][1]\n",
        "        if pred:\n",
        "            syllable_suggestion = (pred, frequency_count)\n",
        "    \n",
        "    suggestions = sym_spell.lookup(input_abbreviation, Verbosity.ALL, max_edit_distance=edit_distance, include_unknown=include_unknown)\n",
        "    # Need to filter suggestions\n",
        "\n",
        "    # 1) Length of suggested word >= (>?) length of input abbreviation\n",
        "\n",
        "    # filtered_length_suggestions = [suggestion for suggestion in suggestions if len(suggestion.term) > len(input_abbreviation)]\n",
        "\n",
        "    # 2) Suggested word should contain all the letters that make up the input abbreviation\n",
        "\n",
        "    # input_word_set = set(input_abbreviation)\n",
        "    # filtered_char_suggestions = [suggestion for suggestion in filtered_length_suggestions if input_word_set.issubset(set(suggestion.term))]\n",
        "\n",
        "    # 3) Suggested word has characters in the same order as the input abbreviation\n",
        "\n",
        "    pattern_str = \".*\".join(list(input_abbreviation))\n",
        "    pattern = re.compile(pattern_str)\n",
        "\n",
        "    filtered_ordered_suggestions = [suggestion for suggestion in suggestions if pattern.match(suggestion.term)]\n",
        "    \n",
        "    # Sort results by weighted frequency\n",
        "    sorted_suggestions = sorted(filtered_ordered_suggestions, reverse=True, key=lambda suggestion: suggestion_metric(input_abbreviation, suggestion))\n",
        "    # print([(x.term, x.count, suggestion_metric(input_abbreviation, x), mean_letter_distance(input_abbreviation, x.term) / max_distance) for x in sorted_suggestions])\n",
        "\n",
        "    if sorted_suggestions:\n",
        "        vowel_suggestion = (sorted_suggestions[0].term, sorted_suggestions[0].count)\n",
        "        # Check if both syllable suggestion using Trie and regular suggestion exists\n",
        "        # If both exists, return the suggestion with the higher frequency\n",
        "        if syllable_suggestion and 1.5 * syllable_suggestion[1] > vowel_suggestion[1]:\n",
        "            return syllable_suggestion[0]\n",
        "        return vowel_suggestion[0]\n",
        "    \n",
        "    # if vowel_suggestion doesn't exist but syllable_suggestion exists, return syllable_suggestion\n",
        "    if syllable_suggestion:\n",
        "        return syllable_suggestion[0]\n",
        "\n",
        "def get_suggestion_phrase(phrase):\n",
        "    # First check if phrase is a common phrase found in dictionary (ex. french fries)\n",
        "    suggestion = get_suggestion(phrase)\n",
        "    \n",
        "    # Otherwise split the phrase into its individual words\n",
        "    # If part of a phrase doesn't have a suggested full form, leave it as it is\n",
        "    words = re.split(r\" |-\", re.sub(\"\\s\\s+\" , \" \", phrase))\n",
        "    # Only consider abbreviations with > 2 characters\n",
        "    words = [w for w in words if len(w) > 2]\n",
        "\n",
        "    suggestions = []\n",
        "    for word in words:\n",
        "        word_suggestion = get_suggestion(word)\n",
        "        if word_suggestion:\n",
        "            suggestions.append(word_suggestion)\n",
        "        else:\n",
        "            suggestions.append(word)\n",
        "\n",
        "    phrase_suggestion = \" \".join(suggestions)\n",
        "    return suggestion or phrase_suggestion"
      ],
      "metadata": {
        "id": "wkcLTjUo8ogw"
      },
      "execution_count": null,
      "outputs": []
    },
    {
      "cell_type": "markdown",
      "source": [
        "# Pipeline Setup"
      ],
      "metadata": {
        "id": "HepFBJ75xTr3"
      }
    },
    {
      "cell_type": "code",
      "source": [
        "def data_cleaning(df):\n",
        "  def clean_word(word):\n",
        "    word = str(word)\n",
        "    word = re.sub(\"[^a-zA-Z]\",\" \", word)\n",
        "    word = word.lower().split()\n",
        "    for i in range(len(word) - 1, -1, -1):\n",
        "        if len(word[i]) < 3:\n",
        "            word.pop(i)\n",
        "    \n",
        "    final = \"\"\n",
        "    for w in word:\n",
        "        final = final + w + \" \"\n",
        "    return final\n",
        "  df_cleaned = df\n",
        "  df_cleaned[\"product\"] = df_cleaned[\"product\"].apply(df_cleaning)\n",
        "  return df_cleaned\n",
        "\n",
        "def abbreviation_expansion(df):\n",
        "  return pd.DataFrame({\"product\": df[\"product\"].apply(get_suggestion_phrase)})\n",
        "\n",
        "def predict(name):\n",
        "    label_tokenized = tokenizer.texts_to_sequences([name])\n",
        "    label_tokenized = pad_sequences(label_tokenized, padding=\"post\")\n",
        "    label_tokenized.resize(1, 71) \n",
        "\n",
        "    prediction = model.predict(label_tokenized)\n",
        "    return le.inverse_transform([np.argmax(prediction)])[0]\n",
        "\n",
        "def pipeline(df):\n",
        "  cleaned = data_cleaning(df)\n",
        "  expanded = abbreviation_expansion(cleaned)\n",
        "  expanded[\"category\"] = expanded[\"product\"].apply(predict)\n",
        "  return expanded"
      ],
      "metadata": {
        "id": "3A0LhOSy6j7v"
      },
      "execution_count": null,
      "outputs": []
    },
    {
      "cell_type": "markdown",
      "source": [
        "# Interactive Pipeline"
      ],
      "metadata": {
        "id": "ncIteakqxXuI"
      }
    },
    {
      "cell_type": "markdown",
      "source": [
        "**Instructions**\n",
        "- Start with a pandas dataframe containing a list of grocery products\n",
        "- Call the pipeline function on the aforementioned dataframe\n",
        "- Function will return a dataframe containing the expanded version of the products and their predicted category\n",
        "\n",
        "*Example:*\n",
        ">pipeline(df)\n"
      ],
      "metadata": {
        "id": "qmLXspi1xcm9"
      }
    },
    {
      "cell_type": "code",
      "source": [
        "grocery_items = ['BLCK', 'chkn', 'ygrt', 'otml']\n",
        "df = pd.DataFrame({\"product\": grocery_items})\n",
        "df"
      ],
      "metadata": {
        "id": "eT3IacgP9VaY",
        "colab": {
          "base_uri": "https://localhost:8080/",
          "height": 175
        },
        "outputId": "f9ea975f-6999-4216-b532-57abaae81905"
      },
      "execution_count": null,
      "outputs": [
        {
          "output_type": "execute_result",
          "data": {
            "text/plain": [
              "  product\n",
              "0    BLCK\n",
              "1    chkn\n",
              "2    ygrt\n",
              "3    otml"
            ],
            "text/html": [
              "\n",
              "  <div id=\"df-144d3440-bc7b-4551-afb4-a04758ffc650\">\n",
              "    <div class=\"colab-df-container\">\n",
              "      <div>\n",
              "<style scoped>\n",
              "    .dataframe tbody tr th:only-of-type {\n",
              "        vertical-align: middle;\n",
              "    }\n",
              "\n",
              "    .dataframe tbody tr th {\n",
              "        vertical-align: top;\n",
              "    }\n",
              "\n",
              "    .dataframe thead th {\n",
              "        text-align: right;\n",
              "    }\n",
              "</style>\n",
              "<table border=\"1\" class=\"dataframe\">\n",
              "  <thead>\n",
              "    <tr style=\"text-align: right;\">\n",
              "      <th></th>\n",
              "      <th>product</th>\n",
              "    </tr>\n",
              "  </thead>\n",
              "  <tbody>\n",
              "    <tr>\n",
              "      <th>0</th>\n",
              "      <td>BLCK</td>\n",
              "    </tr>\n",
              "    <tr>\n",
              "      <th>1</th>\n",
              "      <td>chkn</td>\n",
              "    </tr>\n",
              "    <tr>\n",
              "      <th>2</th>\n",
              "      <td>ygrt</td>\n",
              "    </tr>\n",
              "    <tr>\n",
              "      <th>3</th>\n",
              "      <td>otml</td>\n",
              "    </tr>\n",
              "  </tbody>\n",
              "</table>\n",
              "</div>\n",
              "      <button class=\"colab-df-convert\" onclick=\"convertToInteractive('df-144d3440-bc7b-4551-afb4-a04758ffc650')\"\n",
              "              title=\"Convert this dataframe to an interactive table.\"\n",
              "              style=\"display:none;\">\n",
              "        \n",
              "  <svg xmlns=\"http://www.w3.org/2000/svg\" height=\"24px\"viewBox=\"0 0 24 24\"\n",
              "       width=\"24px\">\n",
              "    <path d=\"M0 0h24v24H0V0z\" fill=\"none\"/>\n",
              "    <path d=\"M18.56 5.44l.94 2.06.94-2.06 2.06-.94-2.06-.94-.94-2.06-.94 2.06-2.06.94zm-11 1L8.5 8.5l.94-2.06 2.06-.94-2.06-.94L8.5 2.5l-.94 2.06-2.06.94zm10 10l.94 2.06.94-2.06 2.06-.94-2.06-.94-.94-2.06-.94 2.06-2.06.94z\"/><path d=\"M17.41 7.96l-1.37-1.37c-.4-.4-.92-.59-1.43-.59-.52 0-1.04.2-1.43.59L10.3 9.45l-7.72 7.72c-.78.78-.78 2.05 0 2.83L4 21.41c.39.39.9.59 1.41.59.51 0 1.02-.2 1.41-.59l7.78-7.78 2.81-2.81c.8-.78.8-2.07 0-2.86zM5.41 20L4 18.59l7.72-7.72 1.47 1.35L5.41 20z\"/>\n",
              "  </svg>\n",
              "      </button>\n",
              "      \n",
              "  <style>\n",
              "    .colab-df-container {\n",
              "      display:flex;\n",
              "      flex-wrap:wrap;\n",
              "      gap: 12px;\n",
              "    }\n",
              "\n",
              "    .colab-df-convert {\n",
              "      background-color: #E8F0FE;\n",
              "      border: none;\n",
              "      border-radius: 50%;\n",
              "      cursor: pointer;\n",
              "      display: none;\n",
              "      fill: #1967D2;\n",
              "      height: 32px;\n",
              "      padding: 0 0 0 0;\n",
              "      width: 32px;\n",
              "    }\n",
              "\n",
              "    .colab-df-convert:hover {\n",
              "      background-color: #E2EBFA;\n",
              "      box-shadow: 0px 1px 2px rgba(60, 64, 67, 0.3), 0px 1px 3px 1px rgba(60, 64, 67, 0.15);\n",
              "      fill: #174EA6;\n",
              "    }\n",
              "\n",
              "    [theme=dark] .colab-df-convert {\n",
              "      background-color: #3B4455;\n",
              "      fill: #D2E3FC;\n",
              "    }\n",
              "\n",
              "    [theme=dark] .colab-df-convert:hover {\n",
              "      background-color: #434B5C;\n",
              "      box-shadow: 0px 1px 3px 1px rgba(0, 0, 0, 0.15);\n",
              "      filter: drop-shadow(0px 1px 2px rgba(0, 0, 0, 0.3));\n",
              "      fill: #FFFFFF;\n",
              "    }\n",
              "  </style>\n",
              "\n",
              "      <script>\n",
              "        const buttonEl =\n",
              "          document.querySelector('#df-144d3440-bc7b-4551-afb4-a04758ffc650 button.colab-df-convert');\n",
              "        buttonEl.style.display =\n",
              "          google.colab.kernel.accessAllowed ? 'block' : 'none';\n",
              "\n",
              "        async function convertToInteractive(key) {\n",
              "          const element = document.querySelector('#df-144d3440-bc7b-4551-afb4-a04758ffc650');\n",
              "          const dataTable =\n",
              "            await google.colab.kernel.invokeFunction('convertToInteractive',\n",
              "                                                     [key], {});\n",
              "          if (!dataTable) return;\n",
              "\n",
              "          const docLinkHtml = 'Like what you see? Visit the ' +\n",
              "            '<a target=\"_blank\" href=https://colab.research.google.com/notebooks/data_table.ipynb>data table notebook</a>'\n",
              "            + ' to learn more about interactive tables.';\n",
              "          element.innerHTML = '';\n",
              "          dataTable['output_type'] = 'display_data';\n",
              "          await google.colab.output.renderOutput(dataTable, element);\n",
              "          const docLink = document.createElement('div');\n",
              "          docLink.innerHTML = docLinkHtml;\n",
              "          element.appendChild(docLink);\n",
              "        }\n",
              "      </script>\n",
              "    </div>\n",
              "  </div>\n",
              "  "
            ]
          },
          "metadata": {},
          "execution_count": 281
        }
      ]
    },
    {
      "cell_type": "code",
      "source": [
        "pipeline(df)"
      ],
      "metadata": {
        "colab": {
          "base_uri": "https://localhost:8080/",
          "height": 249
        },
        "id": "uYf77a4mBk7h",
        "outputId": "71e289af-c6ba-432d-c1e7-d0a358cba54a"
      },
      "execution_count": null,
      "outputs": [
        {
          "output_type": "stream",
          "name": "stdout",
          "text": [
            "1/1 [==============================] - 0s 13ms/step\n",
            "1/1 [==============================] - 0s 15ms/step\n",
            "1/1 [==============================] - 0s 14ms/step\n",
            "1/1 [==============================] - 0s 17ms/step\n"
          ]
        },
        {
          "output_type": "execute_result",
          "data": {
            "text/plain": [
              "   product                                category\n",
              "0    black  Dairy, Eggs & Plant-Based Alternatives\n",
              "1  chicken                          Meat & Seafood\n",
              "2   yogurt  Dairy, Eggs & Plant-Based Alternatives\n",
              "3  oatmeal                         Breakfast Foods"
            ],
            "text/html": [
              "\n",
              "  <div id=\"df-1d47b58a-cda3-419e-9d80-c49aeb7d4a80\">\n",
              "    <div class=\"colab-df-container\">\n",
              "      <div>\n",
              "<style scoped>\n",
              "    .dataframe tbody tr th:only-of-type {\n",
              "        vertical-align: middle;\n",
              "    }\n",
              "\n",
              "    .dataframe tbody tr th {\n",
              "        vertical-align: top;\n",
              "    }\n",
              "\n",
              "    .dataframe thead th {\n",
              "        text-align: right;\n",
              "    }\n",
              "</style>\n",
              "<table border=\"1\" class=\"dataframe\">\n",
              "  <thead>\n",
              "    <tr style=\"text-align: right;\">\n",
              "      <th></th>\n",
              "      <th>product</th>\n",
              "      <th>category</th>\n",
              "    </tr>\n",
              "  </thead>\n",
              "  <tbody>\n",
              "    <tr>\n",
              "      <th>0</th>\n",
              "      <td>black</td>\n",
              "      <td>Dairy, Eggs &amp; Plant-Based Alternatives</td>\n",
              "    </tr>\n",
              "    <tr>\n",
              "      <th>1</th>\n",
              "      <td>chicken</td>\n",
              "      <td>Meat &amp; Seafood</td>\n",
              "    </tr>\n",
              "    <tr>\n",
              "      <th>2</th>\n",
              "      <td>yogurt</td>\n",
              "      <td>Dairy, Eggs &amp; Plant-Based Alternatives</td>\n",
              "    </tr>\n",
              "    <tr>\n",
              "      <th>3</th>\n",
              "      <td>oatmeal</td>\n",
              "      <td>Breakfast Foods</td>\n",
              "    </tr>\n",
              "  </tbody>\n",
              "</table>\n",
              "</div>\n",
              "      <button class=\"colab-df-convert\" onclick=\"convertToInteractive('df-1d47b58a-cda3-419e-9d80-c49aeb7d4a80')\"\n",
              "              title=\"Convert this dataframe to an interactive table.\"\n",
              "              style=\"display:none;\">\n",
              "        \n",
              "  <svg xmlns=\"http://www.w3.org/2000/svg\" height=\"24px\"viewBox=\"0 0 24 24\"\n",
              "       width=\"24px\">\n",
              "    <path d=\"M0 0h24v24H0V0z\" fill=\"none\"/>\n",
              "    <path d=\"M18.56 5.44l.94 2.06.94-2.06 2.06-.94-2.06-.94-.94-2.06-.94 2.06-2.06.94zm-11 1L8.5 8.5l.94-2.06 2.06-.94-2.06-.94L8.5 2.5l-.94 2.06-2.06.94zm10 10l.94 2.06.94-2.06 2.06-.94-2.06-.94-.94-2.06-.94 2.06-2.06.94z\"/><path d=\"M17.41 7.96l-1.37-1.37c-.4-.4-.92-.59-1.43-.59-.52 0-1.04.2-1.43.59L10.3 9.45l-7.72 7.72c-.78.78-.78 2.05 0 2.83L4 21.41c.39.39.9.59 1.41.59.51 0 1.02-.2 1.41-.59l7.78-7.78 2.81-2.81c.8-.78.8-2.07 0-2.86zM5.41 20L4 18.59l7.72-7.72 1.47 1.35L5.41 20z\"/>\n",
              "  </svg>\n",
              "      </button>\n",
              "      \n",
              "  <style>\n",
              "    .colab-df-container {\n",
              "      display:flex;\n",
              "      flex-wrap:wrap;\n",
              "      gap: 12px;\n",
              "    }\n",
              "\n",
              "    .colab-df-convert {\n",
              "      background-color: #E8F0FE;\n",
              "      border: none;\n",
              "      border-radius: 50%;\n",
              "      cursor: pointer;\n",
              "      display: none;\n",
              "      fill: #1967D2;\n",
              "      height: 32px;\n",
              "      padding: 0 0 0 0;\n",
              "      width: 32px;\n",
              "    }\n",
              "\n",
              "    .colab-df-convert:hover {\n",
              "      background-color: #E2EBFA;\n",
              "      box-shadow: 0px 1px 2px rgba(60, 64, 67, 0.3), 0px 1px 3px 1px rgba(60, 64, 67, 0.15);\n",
              "      fill: #174EA6;\n",
              "    }\n",
              "\n",
              "    [theme=dark] .colab-df-convert {\n",
              "      background-color: #3B4455;\n",
              "      fill: #D2E3FC;\n",
              "    }\n",
              "\n",
              "    [theme=dark] .colab-df-convert:hover {\n",
              "      background-color: #434B5C;\n",
              "      box-shadow: 0px 1px 3px 1px rgba(0, 0, 0, 0.15);\n",
              "      filter: drop-shadow(0px 1px 2px rgba(0, 0, 0, 0.3));\n",
              "      fill: #FFFFFF;\n",
              "    }\n",
              "  </style>\n",
              "\n",
              "      <script>\n",
              "        const buttonEl =\n",
              "          document.querySelector('#df-1d47b58a-cda3-419e-9d80-c49aeb7d4a80 button.colab-df-convert');\n",
              "        buttonEl.style.display =\n",
              "          google.colab.kernel.accessAllowed ? 'block' : 'none';\n",
              "\n",
              "        async function convertToInteractive(key) {\n",
              "          const element = document.querySelector('#df-1d47b58a-cda3-419e-9d80-c49aeb7d4a80');\n",
              "          const dataTable =\n",
              "            await google.colab.kernel.invokeFunction('convertToInteractive',\n",
              "                                                     [key], {});\n",
              "          if (!dataTable) return;\n",
              "\n",
              "          const docLinkHtml = 'Like what you see? Visit the ' +\n",
              "            '<a target=\"_blank\" href=https://colab.research.google.com/notebooks/data_table.ipynb>data table notebook</a>'\n",
              "            + ' to learn more about interactive tables.';\n",
              "          element.innerHTML = '';\n",
              "          dataTable['output_type'] = 'display_data';\n",
              "          await google.colab.output.renderOutput(dataTable, element);\n",
              "          const docLink = document.createElement('div');\n",
              "          docLink.innerHTML = docLinkHtml;\n",
              "          element.appendChild(docLink);\n",
              "        }\n",
              "      </script>\n",
              "    </div>\n",
              "  </div>\n",
              "  "
            ]
          },
          "metadata": {},
          "execution_count": 282
        }
      ]
    },
    {
      "cell_type": "code",
      "source": [],
      "metadata": {
        "id": "SFutwBgyDa3y"
      },
      "execution_count": null,
      "outputs": []
    }
  ]
}